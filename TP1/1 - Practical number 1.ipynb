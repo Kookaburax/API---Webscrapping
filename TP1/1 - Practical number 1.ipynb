{
 "cells": [
  {
   "cell_type": "markdown",
   "metadata": {},
   "source": [
    "# General Knowledge of API\n",
    "\n",
    "APIs, or Application Programming Interfaces, play a pivotal role in modern software development by facilitating communication and data exchange between different systems. They serve as bridges that allow applications to interact with each other seamlessly, enabling the creation of more robust and interconnected software.\n",
    "\n",
    "APIs come in various forms, each serving specific purposes in the realm of software development. Let's explore some fundamental concepts:"
   ]
  },
  {
   "cell_type": "markdown",
   "metadata": {},
   "source": [
    "- **Question 1:** *Name three types of API protocols. Briefly explain the primary use of each.*\n",
    "\n",
    "  - SOAP (Simple Object Access Protocol): A protocol used for secure and standardized communication\n",
    "\n",
    "  - gRPC (Google Remote Procedure Call): A protocol that uses HTTP/2 streams and Protocol Buffers for cross-language communication.\n",
    "\n",
    "  - REST (Representational State Transfer): A resource-oriented protocol designed for scalability.\n",
    "\n",
    "  \n",
    "\n",
    "\n",
    "- **Question 2:** *What are the HTTP response code families? And what do they mean?*\n",
    "\n",
    "  - 1XX: Informational responses \n",
    "  - 2XX: Successful responses\n",
    "  - 3XX: Redirection messages\n",
    "  - 4XX: Client error responses\n",
    "  - 5XX: Server error responses\n",
    "\n",
    "  Understanding these families helps developers diagnose and troubleshoot issues during API interactions.\n",
    "\n",
    "- **Question 3:** *What do the HTTP response codes 201, 401, and 404 mean?*\n",
    "\n",
    "  - **201:**  Created – The request was successful, and a new resource has been created.\n",
    "  - **401:**  Unauthorized – Authentication is required or failed.\n",
    "  - **404:**  Not Found – The server cannot find the requested resource.\n",
    "\n",
    "- **Question 4:** *Name the 4 basic HTTP verbs.*\n",
    "\n",
    "  - GET: Retrieve a resource.\n",
    "  - POST: Create a new resource.\n",
    "  - PUT: Modify a resource entirely.\n",
    "  - DELETE: Remove a resource.\n",
    "\n",
    "- **Question 5:** *Explain the difference between PUT and PATCH?*\n",
    "\n",
    "  - **PUT:** : Updates the entire resource with new data.\n",
    "\n",
    "  - **PATCH:** : Partially updates the resource by modifying only specific fields\n",
    "\n",
    "- **Question 6:** *Name at least two data formats commonly used in API exchanges.*\n",
    "\n",
    "  - JSON (JavaScript Object Notation).\n",
    "\n",
    "  - XML (Extensible Markup Language).\n",
    "\n",
    "- **Question 7:** *How can you verify the validity of a resource without getting the entire response?*\n",
    "\n",
    "  - HEAD: Use the HTTP HEAD method to retrieve only the headers of a resource, which contains metadata like status and content type\n",
    "\n",
    "- **Question 8:** *What are the main concepts of REST? (name them)*\n",
    "\n",
    "  - Client-server architecture.\n",
    "  - Statelessness.\n",
    "  - Cacheability.\n",
    "  - Uniform Interface.\n",
    "  - Layered system.\n",
    "\n",
    "- **Question 9:** *Can you explain one of the main concepts of your choice from among those you mention? (Give an example if possible)*\n",
    " \n",
    "- Cacheability is one of the core principles of REST.\n",
    "  If a response is cacheable, clients can reuse the stored data instead of making repeated requests to the server, saving bandwidth and reducing server load.\n",
    "\n",
    "In the subsequent sections, we will delve into practical exercises to apply and deepen our understanding of these concepts using SOAP, REST, and GraphQL APIs.\n"
   ]
  },
  {
   "cell_type": "markdown",
   "metadata": {},
   "source": [
    "--------------------------"
   ]
  },
  {
   "cell_type": "markdown",
   "metadata": {},
   "source": [
    "# Exploring SOAP APIs\n",
    "\n",
    "### Few elements to remember about the SOAP Protocol\n",
    "\n",
    "The SOAP protocol, which means Simple Object Access Protocol, is one of the earliest web service protocols. SOAP is an XML-based protocol and was designed to provide a platform/language-independent way to exchange data between different systems over the internet.\n",
    "\n",
    "### Key Concepts in SOAP:\n",
    "\n",
    "- **XML-Based Structure:** SOAP messages are structured using XML, making them both human-readable and machine-readable. This structure allows for the encapsulation of data and its transport between systems.\n",
    "\n",
    "- **Platform and Language Independence:** One of the core objectives of SOAP is to provide a communication method that is independent of the underlying platform or programming language. This promotes interoperability between diverse systems.\n",
    "\n",
    "- **Message Format:** SOAP messages consist of an envelope that defines the message structure and rules for processing, a set of encoding rules for data types, and conventions for representing remote procedure calls.\n",
    "\n",
    "- **Transport Neutrality:** SOAP can be used with various transport protocols, including HTTP, SMTP, and more. This flexibility in transport makes it adaptable to different network environments.\n",
    "\n",
    "### Objective\n",
    "\n",
    "Obtain and display the capital of the Canada corresponding to the ISO code \"CA\" using the following SOAP API. \n",
    "Step by step guide :\n",
    "\n",
    "- **Step 1:** Examine the XML structure of the SOAP request provided. Identify the tag name that contains the ISO country code and the tag that will return the capital name.\n",
    "\n",
    "- **Step 2:** Modify the existing SOAP request to use the ISO code \"CA\" isntead of \"FR\". Ensure that the XML structure remains correct.\n",
    "\n",
    "- **Step 3:** Use the modified request to send a request to the SOAP services at the specified URL.\n",
    "\n",
    "- **Step 4:** Analyze the response received. Extract and display the capital name from the SOAP response.\n",
    "\n",
    "- **Step 5:** Remove sections of code that are not necessary to achieve this objective, in order to simply the script.\n",
    "\n",
    "\n",
    "### Documentation link :\n",
    "\n",
    "- https://www.postman.com/cs-demo/workspace/postman-customer-org-s-public-workspace/documentation/8854915-43f6a9be-0c65-4486-bfdf-36b6548161dd?entity=request-96a53688-6305-45be-ab8b-ca1d1c88f830\n",
    "- https://docs.insomnia.rest/"
   ]
  },
  {
   "cell_type": "code",
   "execution_count": 43,
   "metadata": {},
   "outputs": [
    {
     "name": "stdout",
     "output_type": "stream",
     "text": [
      "Ottawa\n"
     ]
    }
   ],
   "source": [
    "import requests\n",
    "# SOAP request URL\n",
    "url = \"http://webservices.oorsprong.org/websamples.countryinfo/CountryInfoService.wso\"\n",
    "\n",
    "# structured XML\n",
    "payload = \"\"\"<soap:Envelope xmlns:soap=\"http://schemas.xmlsoap.org/soap/envelope/\">\n",
    "                <soap:Body>\n",
    "                    <CapitalCity xmlns=\"http://www.oorsprong.org/websamples.countryinfo\">\n",
    "                        <sCountryISOCode>CA</sCountryISOCode>  #Here the ISO code modified to CA\n",
    "                    </CapitalCity>\n",
    "                </soap:Body>\n",
    "                </soap:Envelope>\"\"\"\n",
    "# headers\n",
    "headers = {\n",
    "    'Content-Type': 'text/xml; charset=utf-8'\n",
    "}\n",
    "# POST request\n",
    "response = requests.request(\"POST\", url, headers=headers, data=payload)\n",
    "\n",
    "\n",
    "# Extract the capital name from the SOAP response\n",
    "capital = response.text.split(\"<m:CapitalCityResult>\")[1].split(\"</m:CapitalCityResult>\")[0]\n",
    "\n",
    "print(capital)\n",
    "\n"
   ]
  },
  {
   "cell_type": "markdown",
   "metadata": {},
   "source": [
    "--------------------------"
   ]
  },
  {
   "cell_type": "markdown",
   "metadata": {},
   "source": [
    "# REST API Exercise: Star Wars Information Retrieval\n",
    "\n",
    "### Introduction \n",
    "\n",
    "In the exercice, you will explore the Star Wars API (SWAPI) to retrieve and analyze data related to Star Wars characters, films and planets. The SWAPI API is a RESTful web service that provideinformation about Star Wars universe, accessible through various endpoints.\\\n",
    "This exercice is designed to enhance your understanding of working with RESTful APIs, feel free to ask me if you have any question. Each task will build on the previous one so don't hesitate if you are blocked. Make sure to handle bad response code.\n",
    "\n",
    "### Few elements to remember about the REST Protocol\n",
    "\n",
    "REST (Representational State Transfer) is an architectural style for designing networked applications. RESTful APIs (Application Programming Interfaces) conform to the principles of REST, allowing systems to communicate over HTTP in a stateless manner; Some important aspects are:\n",
    "\n",
    "- **Resources:** Everything is a resource, identified by a unique URI.\n",
    "\n",
    "- **HTTP Methods:** CRUD operations are performed using standard HTTP methods (GET, POST, PUT, DELETE).\n",
    "\n",
    "- **Stateless:** Each request from a client contains all the information needed to understand and fulfill the request.\n",
    "\n",
    "### Key Concepts in REST:\n",
    "\n",
    "- **Endpoint:** A specific URI representing a resource. Endpoints are URLs that define where resources can be accessed.\n",
    "\n",
    "- **Basic HTTP Methods:** One of the core objectives of SOAP is to provide a communication method that is independent of the underlying platform or programming language. This promotes interoperability between diverse systems.\n",
    "    - **GET:** Retrieve data from a specified resource.\n",
    "    - **POST:** Submit data to be processed to a specified resource.\n",
    "    - **PUT:** Update a resource.\n",
    "    - **DELETE:** Delete a resource.\n",
    "\n",
    "- **Request and Response:**\n",
    "    - **Request:** The client's message to the server, including the HTTP method, headers, and optional data.\n",
    "    - **Response:** The server's reply to the client's request, containing status information and, optionally, data.\n",
    "\n",
    "\n",
    "### Objective\n",
    "\n",
    "- **Step 1: Introduction:** Find some informations about the SWAPI API : the base URL, the Rate limiting and How to auhtenticate. Find information on all available resources withing this API with a request.\n",
    "\n",
    "- **Step 2: Retrieve Character Information:** Retrieve all characters informations (name, gender, height, ...).\n",
    "\n",
    "- **Step 3: Retrieve Film Information:** Retrieve all films informations (title, director, release date, ...).\n",
    "\n",
    "- **Step 4: Retrieve Planet Information:** Retrieve all planets informations (name, population, climate, ...).\n",
    "\n",
    "- **Step 5: Search and Display:** Create a function to search for and display information about a specific character based on its name. Be sure to handle cases of bad queries and to make at least three unittests with an understandable name.\n",
    "\n",
    "- **Step 6: Advanced Query:** Store in a pandas dataframe all informations about all the characters of the film you want. Group the characters by species at the end.\n",
    "\n",
    "- **Step 7: Data Analysis:** Create an advanced query to retrieve information on all the films, and find a way to rank them according to the number of characters in the film.  \n",
    "\n",
    "- **Step 8 bonus: Additional Endpoint:** Explore an additional endpoint and make a request to display relevant information. For exemple to retrieve starship or vehicles informations.\n",
    "\n",
    "\n",
    "### Documentation link :\n",
    "\n",
    "- https://swapi.dev/documentation"
   ]
  },
  {
   "cell_type": "markdown",
   "metadata": {},
   "source": [
    "### Step 1 :"
   ]
  },
  {
   "cell_type": "code",
   "execution_count": null,
   "metadata": {},
   "outputs": [
    {
     "name": "stdout",
     "output_type": "stream",
     "text": [
      "Available Resources: {'people': 'https://swapi.dev/api/people/', 'planets': 'https://swapi.dev/api/planets/', 'films': 'https://swapi.dev/api/films/', 'species': 'https://swapi.dev/api/species/', 'vehicles': 'https://swapi.dev/api/vehicles/', 'starships': 'https://swapi.dev/api/starships/'}\n"
     ]
    }
   ],
   "source": [
    "\n",
    "# SWAPI base URL\n",
    "base_url = \"https://swapi.dev/api/\"\n",
    "\n",
    "response = requests.get(base_url)\n",
    "\n",
    "print(\"Available Resources:\", response.json())\n"
   ]
  },
  {
   "cell_type": "markdown",
   "metadata": {},
   "source": [
    "### Step 2 :"
   ]
  },
  {
   "cell_type": "code",
   "execution_count": 22,
   "metadata": {},
   "outputs": [
    {
     "name": "stdout",
     "output_type": "stream",
     "text": [
      "Characters: {'count': 82, 'next': 'https://swapi.dev/api/people/?page=2', 'previous': None, 'results': [{'name': 'Luke Skywalker', 'height': '172', 'mass': '77', 'hair_color': 'blond', 'skin_color': 'fair', 'eye_color': 'blue', 'birth_year': '19BBY', 'gender': 'male', 'homeworld': 'https://swapi.dev/api/planets/1/', 'films': ['https://swapi.dev/api/films/1/', 'https://swapi.dev/api/films/2/', 'https://swapi.dev/api/films/3/', 'https://swapi.dev/api/films/6/'], 'species': [], 'vehicles': ['https://swapi.dev/api/vehicles/14/', 'https://swapi.dev/api/vehicles/30/'], 'starships': ['https://swapi.dev/api/starships/12/', 'https://swapi.dev/api/starships/22/'], 'created': '2014-12-09T13:50:51.644000Z', 'edited': '2014-12-20T21:17:56.891000Z', 'url': 'https://swapi.dev/api/people/1/'}, {'name': 'C-3PO', 'height': '167', 'mass': '75', 'hair_color': 'n/a', 'skin_color': 'gold', 'eye_color': 'yellow', 'birth_year': '112BBY', 'gender': 'n/a', 'homeworld': 'https://swapi.dev/api/planets/1/', 'films': ['https://swapi.dev/api/films/1/', 'https://swapi.dev/api/films/2/', 'https://swapi.dev/api/films/3/', 'https://swapi.dev/api/films/4/', 'https://swapi.dev/api/films/5/', 'https://swapi.dev/api/films/6/'], 'species': ['https://swapi.dev/api/species/2/'], 'vehicles': [], 'starships': [], 'created': '2014-12-10T15:10:51.357000Z', 'edited': '2014-12-20T21:17:50.309000Z', 'url': 'https://swapi.dev/api/people/2/'}, {'name': 'R2-D2', 'height': '96', 'mass': '32', 'hair_color': 'n/a', 'skin_color': 'white, blue', 'eye_color': 'red', 'birth_year': '33BBY', 'gender': 'n/a', 'homeworld': 'https://swapi.dev/api/planets/8/', 'films': ['https://swapi.dev/api/films/1/', 'https://swapi.dev/api/films/2/', 'https://swapi.dev/api/films/3/', 'https://swapi.dev/api/films/4/', 'https://swapi.dev/api/films/5/', 'https://swapi.dev/api/films/6/'], 'species': ['https://swapi.dev/api/species/2/'], 'vehicles': [], 'starships': [], 'created': '2014-12-10T15:11:50.376000Z', 'edited': '2014-12-20T21:17:50.311000Z', 'url': 'https://swapi.dev/api/people/3/'}, {'name': 'Darth Vader', 'height': '202', 'mass': '136', 'hair_color': 'none', 'skin_color': 'white', 'eye_color': 'yellow', 'birth_year': '41.9BBY', 'gender': 'male', 'homeworld': 'https://swapi.dev/api/planets/1/', 'films': ['https://swapi.dev/api/films/1/', 'https://swapi.dev/api/films/2/', 'https://swapi.dev/api/films/3/', 'https://swapi.dev/api/films/6/'], 'species': [], 'vehicles': [], 'starships': ['https://swapi.dev/api/starships/13/'], 'created': '2014-12-10T15:18:20.704000Z', 'edited': '2014-12-20T21:17:50.313000Z', 'url': 'https://swapi.dev/api/people/4/'}, {'name': 'Leia Organa', 'height': '150', 'mass': '49', 'hair_color': 'brown', 'skin_color': 'light', 'eye_color': 'brown', 'birth_year': '19BBY', 'gender': 'female', 'homeworld': 'https://swapi.dev/api/planets/2/', 'films': ['https://swapi.dev/api/films/1/', 'https://swapi.dev/api/films/2/', 'https://swapi.dev/api/films/3/', 'https://swapi.dev/api/films/6/'], 'species': [], 'vehicles': ['https://swapi.dev/api/vehicles/30/'], 'starships': [], 'created': '2014-12-10T15:20:09.791000Z', 'edited': '2014-12-20T21:17:50.315000Z', 'url': 'https://swapi.dev/api/people/5/'}, {'name': 'Owen Lars', 'height': '178', 'mass': '120', 'hair_color': 'brown, grey', 'skin_color': 'light', 'eye_color': 'blue', 'birth_year': '52BBY', 'gender': 'male', 'homeworld': 'https://swapi.dev/api/planets/1/', 'films': ['https://swapi.dev/api/films/1/', 'https://swapi.dev/api/films/5/', 'https://swapi.dev/api/films/6/'], 'species': [], 'vehicles': [], 'starships': [], 'created': '2014-12-10T15:52:14.024000Z', 'edited': '2014-12-20T21:17:50.317000Z', 'url': 'https://swapi.dev/api/people/6/'}, {'name': 'Beru Whitesun lars', 'height': '165', 'mass': '75', 'hair_color': 'brown', 'skin_color': 'light', 'eye_color': 'blue', 'birth_year': '47BBY', 'gender': 'female', 'homeworld': 'https://swapi.dev/api/planets/1/', 'films': ['https://swapi.dev/api/films/1/', 'https://swapi.dev/api/films/5/', 'https://swapi.dev/api/films/6/'], 'species': [], 'vehicles': [], 'starships': [], 'created': '2014-12-10T15:53:41.121000Z', 'edited': '2014-12-20T21:17:50.319000Z', 'url': 'https://swapi.dev/api/people/7/'}, {'name': 'R5-D4', 'height': '97', 'mass': '32', 'hair_color': 'n/a', 'skin_color': 'white, red', 'eye_color': 'red', 'birth_year': 'unknown', 'gender': 'n/a', 'homeworld': 'https://swapi.dev/api/planets/1/', 'films': ['https://swapi.dev/api/films/1/'], 'species': ['https://swapi.dev/api/species/2/'], 'vehicles': [], 'starships': [], 'created': '2014-12-10T15:57:50.959000Z', 'edited': '2014-12-20T21:17:50.321000Z', 'url': 'https://swapi.dev/api/people/8/'}, {'name': 'Biggs Darklighter', 'height': '183', 'mass': '84', 'hair_color': 'black', 'skin_color': 'light', 'eye_color': 'brown', 'birth_year': '24BBY', 'gender': 'male', 'homeworld': 'https://swapi.dev/api/planets/1/', 'films': ['https://swapi.dev/api/films/1/'], 'species': [], 'vehicles': [], 'starships': ['https://swapi.dev/api/starships/12/'], 'created': '2014-12-10T15:59:50.509000Z', 'edited': '2014-12-20T21:17:50.323000Z', 'url': 'https://swapi.dev/api/people/9/'}, {'name': 'Obi-Wan Kenobi', 'height': '182', 'mass': '77', 'hair_color': 'auburn, white', 'skin_color': 'fair', 'eye_color': 'blue-gray', 'birth_year': '57BBY', 'gender': 'male', 'homeworld': 'https://swapi.dev/api/planets/20/', 'films': ['https://swapi.dev/api/films/1/', 'https://swapi.dev/api/films/2/', 'https://swapi.dev/api/films/3/', 'https://swapi.dev/api/films/4/', 'https://swapi.dev/api/films/5/', 'https://swapi.dev/api/films/6/'], 'species': [], 'vehicles': ['https://swapi.dev/api/vehicles/38/'], 'starships': ['https://swapi.dev/api/starships/48/', 'https://swapi.dev/api/starships/59/', 'https://swapi.dev/api/starships/64/', 'https://swapi.dev/api/starships/65/', 'https://swapi.dev/api/starships/74/'], 'created': '2014-12-10T16:16:29.192000Z', 'edited': '2014-12-20T21:17:50.325000Z', 'url': 'https://swapi.dev/api/people/10/'}]}\n"
     ]
    }
   ],
   "source": [
    "# Retrieve Characters\n",
    "response = requests.get(f\"{base_url}people/\")\n",
    "if response.status_code == 200:\n",
    "    characters = response.json()\n",
    "    print(\"Characters:\", characters)\n",
    "else:\n",
    "    print(\"Error fetching characters.\")\n",
    "\n"
   ]
  },
  {
   "cell_type": "markdown",
   "metadata": {},
   "source": [
    "### Step 3 :"
   ]
  },
  {
   "cell_type": "code",
   "execution_count": 23,
   "metadata": {},
   "outputs": [
    {
     "name": "stdout",
     "output_type": "stream",
     "text": [
      "Films: {'count': 6, 'next': None, 'previous': None, 'results': [{'title': 'A New Hope', 'episode_id': 4, 'opening_crawl': \"It is a period of civil war.\\r\\nRebel spaceships, striking\\r\\nfrom a hidden base, have won\\r\\ntheir first victory against\\r\\nthe evil Galactic Empire.\\r\\n\\r\\nDuring the battle, Rebel\\r\\nspies managed to steal secret\\r\\nplans to the Empire's\\r\\nultimate weapon, the DEATH\\r\\nSTAR, an armored space\\r\\nstation with enough power\\r\\nto destroy an entire planet.\\r\\n\\r\\nPursued by the Empire's\\r\\nsinister agents, Princess\\r\\nLeia races home aboard her\\r\\nstarship, custodian of the\\r\\nstolen plans that can save her\\r\\npeople and restore\\r\\nfreedom to the galaxy....\", 'director': 'George Lucas', 'producer': 'Gary Kurtz, Rick McCallum', 'release_date': '1977-05-25', 'characters': ['https://swapi.dev/api/people/1/', 'https://swapi.dev/api/people/2/', 'https://swapi.dev/api/people/3/', 'https://swapi.dev/api/people/4/', 'https://swapi.dev/api/people/5/', 'https://swapi.dev/api/people/6/', 'https://swapi.dev/api/people/7/', 'https://swapi.dev/api/people/8/', 'https://swapi.dev/api/people/9/', 'https://swapi.dev/api/people/10/', 'https://swapi.dev/api/people/12/', 'https://swapi.dev/api/people/13/', 'https://swapi.dev/api/people/14/', 'https://swapi.dev/api/people/15/', 'https://swapi.dev/api/people/16/', 'https://swapi.dev/api/people/18/', 'https://swapi.dev/api/people/19/', 'https://swapi.dev/api/people/81/'], 'planets': ['https://swapi.dev/api/planets/1/', 'https://swapi.dev/api/planets/2/', 'https://swapi.dev/api/planets/3/'], 'starships': ['https://swapi.dev/api/starships/2/', 'https://swapi.dev/api/starships/3/', 'https://swapi.dev/api/starships/5/', 'https://swapi.dev/api/starships/9/', 'https://swapi.dev/api/starships/10/', 'https://swapi.dev/api/starships/11/', 'https://swapi.dev/api/starships/12/', 'https://swapi.dev/api/starships/13/'], 'vehicles': ['https://swapi.dev/api/vehicles/4/', 'https://swapi.dev/api/vehicles/6/', 'https://swapi.dev/api/vehicles/7/', 'https://swapi.dev/api/vehicles/8/'], 'species': ['https://swapi.dev/api/species/1/', 'https://swapi.dev/api/species/2/', 'https://swapi.dev/api/species/3/', 'https://swapi.dev/api/species/4/', 'https://swapi.dev/api/species/5/'], 'created': '2014-12-10T14:23:31.880000Z', 'edited': '2014-12-20T19:49:45.256000Z', 'url': 'https://swapi.dev/api/films/1/'}, {'title': 'The Empire Strikes Back', 'episode_id': 5, 'opening_crawl': 'It is a dark time for the\\r\\nRebellion. Although the Death\\r\\nStar has been destroyed,\\r\\nImperial troops have driven the\\r\\nRebel forces from their hidden\\r\\nbase and pursued them across\\r\\nthe galaxy.\\r\\n\\r\\nEvading the dreaded Imperial\\r\\nStarfleet, a group of freedom\\r\\nfighters led by Luke Skywalker\\r\\nhas established a new secret\\r\\nbase on the remote ice world\\r\\nof Hoth.\\r\\n\\r\\nThe evil lord Darth Vader,\\r\\nobsessed with finding young\\r\\nSkywalker, has dispatched\\r\\nthousands of remote probes into\\r\\nthe far reaches of space....', 'director': 'Irvin Kershner', 'producer': 'Gary Kurtz, Rick McCallum', 'release_date': '1980-05-17', 'characters': ['https://swapi.dev/api/people/1/', 'https://swapi.dev/api/people/2/', 'https://swapi.dev/api/people/3/', 'https://swapi.dev/api/people/4/', 'https://swapi.dev/api/people/5/', 'https://swapi.dev/api/people/10/', 'https://swapi.dev/api/people/13/', 'https://swapi.dev/api/people/14/', 'https://swapi.dev/api/people/18/', 'https://swapi.dev/api/people/20/', 'https://swapi.dev/api/people/21/', 'https://swapi.dev/api/people/22/', 'https://swapi.dev/api/people/23/', 'https://swapi.dev/api/people/24/', 'https://swapi.dev/api/people/25/', 'https://swapi.dev/api/people/26/'], 'planets': ['https://swapi.dev/api/planets/4/', 'https://swapi.dev/api/planets/5/', 'https://swapi.dev/api/planets/6/', 'https://swapi.dev/api/planets/27/'], 'starships': ['https://swapi.dev/api/starships/3/', 'https://swapi.dev/api/starships/10/', 'https://swapi.dev/api/starships/11/', 'https://swapi.dev/api/starships/12/', 'https://swapi.dev/api/starships/15/', 'https://swapi.dev/api/starships/17/', 'https://swapi.dev/api/starships/21/', 'https://swapi.dev/api/starships/22/', 'https://swapi.dev/api/starships/23/'], 'vehicles': ['https://swapi.dev/api/vehicles/8/', 'https://swapi.dev/api/vehicles/14/', 'https://swapi.dev/api/vehicles/16/', 'https://swapi.dev/api/vehicles/18/', 'https://swapi.dev/api/vehicles/19/', 'https://swapi.dev/api/vehicles/20/'], 'species': ['https://swapi.dev/api/species/1/', 'https://swapi.dev/api/species/2/', 'https://swapi.dev/api/species/3/', 'https://swapi.dev/api/species/6/', 'https://swapi.dev/api/species/7/'], 'created': '2014-12-12T11:26:24.656000Z', 'edited': '2014-12-15T13:07:53.386000Z', 'url': 'https://swapi.dev/api/films/2/'}, {'title': 'Return of the Jedi', 'episode_id': 6, 'opening_crawl': 'Luke Skywalker has returned to\\r\\nhis home planet of Tatooine in\\r\\nan attempt to rescue his\\r\\nfriend Han Solo from the\\r\\nclutches of the vile gangster\\r\\nJabba the Hutt.\\r\\n\\r\\nLittle does Luke know that the\\r\\nGALACTIC EMPIRE has secretly\\r\\nbegun construction on a new\\r\\narmored space station even\\r\\nmore powerful than the first\\r\\ndreaded Death Star.\\r\\n\\r\\nWhen completed, this ultimate\\r\\nweapon will spell certain doom\\r\\nfor the small band of rebels\\r\\nstruggling to restore freedom\\r\\nto the galaxy...', 'director': 'Richard Marquand', 'producer': 'Howard G. Kazanjian, George Lucas, Rick McCallum', 'release_date': '1983-05-25', 'characters': ['https://swapi.dev/api/people/1/', 'https://swapi.dev/api/people/2/', 'https://swapi.dev/api/people/3/', 'https://swapi.dev/api/people/4/', 'https://swapi.dev/api/people/5/', 'https://swapi.dev/api/people/10/', 'https://swapi.dev/api/people/13/', 'https://swapi.dev/api/people/14/', 'https://swapi.dev/api/people/16/', 'https://swapi.dev/api/people/18/', 'https://swapi.dev/api/people/20/', 'https://swapi.dev/api/people/21/', 'https://swapi.dev/api/people/22/', 'https://swapi.dev/api/people/25/', 'https://swapi.dev/api/people/27/', 'https://swapi.dev/api/people/28/', 'https://swapi.dev/api/people/29/', 'https://swapi.dev/api/people/30/', 'https://swapi.dev/api/people/31/', 'https://swapi.dev/api/people/45/'], 'planets': ['https://swapi.dev/api/planets/1/', 'https://swapi.dev/api/planets/5/', 'https://swapi.dev/api/planets/7/', 'https://swapi.dev/api/planets/8/', 'https://swapi.dev/api/planets/9/'], 'starships': ['https://swapi.dev/api/starships/2/', 'https://swapi.dev/api/starships/3/', 'https://swapi.dev/api/starships/10/', 'https://swapi.dev/api/starships/11/', 'https://swapi.dev/api/starships/12/', 'https://swapi.dev/api/starships/15/', 'https://swapi.dev/api/starships/17/', 'https://swapi.dev/api/starships/22/', 'https://swapi.dev/api/starships/23/', 'https://swapi.dev/api/starships/27/', 'https://swapi.dev/api/starships/28/', 'https://swapi.dev/api/starships/29/'], 'vehicles': ['https://swapi.dev/api/vehicles/8/', 'https://swapi.dev/api/vehicles/16/', 'https://swapi.dev/api/vehicles/18/', 'https://swapi.dev/api/vehicles/19/', 'https://swapi.dev/api/vehicles/24/', 'https://swapi.dev/api/vehicles/25/', 'https://swapi.dev/api/vehicles/26/', 'https://swapi.dev/api/vehicles/30/'], 'species': ['https://swapi.dev/api/species/1/', 'https://swapi.dev/api/species/2/', 'https://swapi.dev/api/species/3/', 'https://swapi.dev/api/species/5/', 'https://swapi.dev/api/species/6/', 'https://swapi.dev/api/species/8/', 'https://swapi.dev/api/species/9/', 'https://swapi.dev/api/species/10/', 'https://swapi.dev/api/species/15/'], 'created': '2014-12-18T10:39:33.255000Z', 'edited': '2014-12-20T09:48:37.462000Z', 'url': 'https://swapi.dev/api/films/3/'}, {'title': 'The Phantom Menace', 'episode_id': 1, 'opening_crawl': 'Turmoil has engulfed the\\r\\nGalactic Republic. The taxation\\r\\nof trade routes to outlying star\\r\\nsystems is in dispute.\\r\\n\\r\\nHoping to resolve the matter\\r\\nwith a blockade of deadly\\r\\nbattleships, the greedy Trade\\r\\nFederation has stopped all\\r\\nshipping to the small planet\\r\\nof Naboo.\\r\\n\\r\\nWhile the Congress of the\\r\\nRepublic endlessly debates\\r\\nthis alarming chain of events,\\r\\nthe Supreme Chancellor has\\r\\nsecretly dispatched two Jedi\\r\\nKnights, the guardians of\\r\\npeace and justice in the\\r\\ngalaxy, to settle the conflict....', 'director': 'George Lucas', 'producer': 'Rick McCallum', 'release_date': '1999-05-19', 'characters': ['https://swapi.dev/api/people/2/', 'https://swapi.dev/api/people/3/', 'https://swapi.dev/api/people/10/', 'https://swapi.dev/api/people/11/', 'https://swapi.dev/api/people/16/', 'https://swapi.dev/api/people/20/', 'https://swapi.dev/api/people/21/', 'https://swapi.dev/api/people/32/', 'https://swapi.dev/api/people/33/', 'https://swapi.dev/api/people/34/', 'https://swapi.dev/api/people/35/', 'https://swapi.dev/api/people/36/', 'https://swapi.dev/api/people/37/', 'https://swapi.dev/api/people/38/', 'https://swapi.dev/api/people/39/', 'https://swapi.dev/api/people/40/', 'https://swapi.dev/api/people/41/', 'https://swapi.dev/api/people/42/', 'https://swapi.dev/api/people/43/', 'https://swapi.dev/api/people/44/', 'https://swapi.dev/api/people/46/', 'https://swapi.dev/api/people/47/', 'https://swapi.dev/api/people/48/', 'https://swapi.dev/api/people/49/', 'https://swapi.dev/api/people/50/', 'https://swapi.dev/api/people/51/', 'https://swapi.dev/api/people/52/', 'https://swapi.dev/api/people/53/', 'https://swapi.dev/api/people/54/', 'https://swapi.dev/api/people/55/', 'https://swapi.dev/api/people/56/', 'https://swapi.dev/api/people/57/', 'https://swapi.dev/api/people/58/', 'https://swapi.dev/api/people/59/'], 'planets': ['https://swapi.dev/api/planets/1/', 'https://swapi.dev/api/planets/8/', 'https://swapi.dev/api/planets/9/'], 'starships': ['https://swapi.dev/api/starships/31/', 'https://swapi.dev/api/starships/32/', 'https://swapi.dev/api/starships/39/', 'https://swapi.dev/api/starships/40/', 'https://swapi.dev/api/starships/41/'], 'vehicles': ['https://swapi.dev/api/vehicles/33/', 'https://swapi.dev/api/vehicles/34/', 'https://swapi.dev/api/vehicles/35/', 'https://swapi.dev/api/vehicles/36/', 'https://swapi.dev/api/vehicles/37/', 'https://swapi.dev/api/vehicles/38/', 'https://swapi.dev/api/vehicles/42/'], 'species': ['https://swapi.dev/api/species/1/', 'https://swapi.dev/api/species/2/', 'https://swapi.dev/api/species/6/', 'https://swapi.dev/api/species/11/', 'https://swapi.dev/api/species/12/', 'https://swapi.dev/api/species/13/', 'https://swapi.dev/api/species/14/', 'https://swapi.dev/api/species/15/', 'https://swapi.dev/api/species/16/', 'https://swapi.dev/api/species/17/', 'https://swapi.dev/api/species/18/', 'https://swapi.dev/api/species/19/', 'https://swapi.dev/api/species/20/', 'https://swapi.dev/api/species/21/', 'https://swapi.dev/api/species/22/', 'https://swapi.dev/api/species/23/', 'https://swapi.dev/api/species/24/', 'https://swapi.dev/api/species/25/', 'https://swapi.dev/api/species/26/', 'https://swapi.dev/api/species/27/'], 'created': '2014-12-19T16:52:55.740000Z', 'edited': '2014-12-20T10:54:07.216000Z', 'url': 'https://swapi.dev/api/films/4/'}, {'title': 'Attack of the Clones', 'episode_id': 2, 'opening_crawl': 'There is unrest in the Galactic\\r\\nSenate. Several thousand solar\\r\\nsystems have declared their\\r\\nintentions to leave the Republic.\\r\\n\\r\\nThis separatist movement,\\r\\nunder the leadership of the\\r\\nmysterious Count Dooku, has\\r\\nmade it difficult for the limited\\r\\nnumber of Jedi Knights to maintain \\r\\npeace and order in the galaxy.\\r\\n\\r\\nSenator Amidala, the former\\r\\nQueen of Naboo, is returning\\r\\nto the Galactic Senate to vote\\r\\non the critical issue of creating\\r\\nan ARMY OF THE REPUBLIC\\r\\nto assist the overwhelmed\\r\\nJedi....', 'director': 'George Lucas', 'producer': 'Rick McCallum', 'release_date': '2002-05-16', 'characters': ['https://swapi.dev/api/people/2/', 'https://swapi.dev/api/people/3/', 'https://swapi.dev/api/people/6/', 'https://swapi.dev/api/people/7/', 'https://swapi.dev/api/people/10/', 'https://swapi.dev/api/people/11/', 'https://swapi.dev/api/people/20/', 'https://swapi.dev/api/people/21/', 'https://swapi.dev/api/people/22/', 'https://swapi.dev/api/people/33/', 'https://swapi.dev/api/people/35/', 'https://swapi.dev/api/people/36/', 'https://swapi.dev/api/people/40/', 'https://swapi.dev/api/people/43/', 'https://swapi.dev/api/people/46/', 'https://swapi.dev/api/people/51/', 'https://swapi.dev/api/people/52/', 'https://swapi.dev/api/people/53/', 'https://swapi.dev/api/people/58/', 'https://swapi.dev/api/people/59/', 'https://swapi.dev/api/people/60/', 'https://swapi.dev/api/people/61/', 'https://swapi.dev/api/people/62/', 'https://swapi.dev/api/people/63/', 'https://swapi.dev/api/people/64/', 'https://swapi.dev/api/people/65/', 'https://swapi.dev/api/people/66/', 'https://swapi.dev/api/people/67/', 'https://swapi.dev/api/people/68/', 'https://swapi.dev/api/people/69/', 'https://swapi.dev/api/people/70/', 'https://swapi.dev/api/people/71/', 'https://swapi.dev/api/people/72/', 'https://swapi.dev/api/people/73/', 'https://swapi.dev/api/people/74/', 'https://swapi.dev/api/people/75/', 'https://swapi.dev/api/people/76/', 'https://swapi.dev/api/people/77/', 'https://swapi.dev/api/people/78/', 'https://swapi.dev/api/people/82/'], 'planets': ['https://swapi.dev/api/planets/1/', 'https://swapi.dev/api/planets/8/', 'https://swapi.dev/api/planets/9/', 'https://swapi.dev/api/planets/10/', 'https://swapi.dev/api/planets/11/'], 'starships': ['https://swapi.dev/api/starships/21/', 'https://swapi.dev/api/starships/32/', 'https://swapi.dev/api/starships/39/', 'https://swapi.dev/api/starships/43/', 'https://swapi.dev/api/starships/47/', 'https://swapi.dev/api/starships/48/', 'https://swapi.dev/api/starships/49/', 'https://swapi.dev/api/starships/52/', 'https://swapi.dev/api/starships/58/'], 'vehicles': ['https://swapi.dev/api/vehicles/4/', 'https://swapi.dev/api/vehicles/44/', 'https://swapi.dev/api/vehicles/45/', 'https://swapi.dev/api/vehicles/46/', 'https://swapi.dev/api/vehicles/50/', 'https://swapi.dev/api/vehicles/51/', 'https://swapi.dev/api/vehicles/53/', 'https://swapi.dev/api/vehicles/54/', 'https://swapi.dev/api/vehicles/55/', 'https://swapi.dev/api/vehicles/56/', 'https://swapi.dev/api/vehicles/57/'], 'species': ['https://swapi.dev/api/species/1/', 'https://swapi.dev/api/species/2/', 'https://swapi.dev/api/species/6/', 'https://swapi.dev/api/species/12/', 'https://swapi.dev/api/species/13/', 'https://swapi.dev/api/species/15/', 'https://swapi.dev/api/species/28/', 'https://swapi.dev/api/species/29/', 'https://swapi.dev/api/species/30/', 'https://swapi.dev/api/species/31/', 'https://swapi.dev/api/species/32/', 'https://swapi.dev/api/species/33/', 'https://swapi.dev/api/species/34/', 'https://swapi.dev/api/species/35/'], 'created': '2014-12-20T10:57:57.886000Z', 'edited': '2014-12-20T20:18:48.516000Z', 'url': 'https://swapi.dev/api/films/5/'}, {'title': 'Revenge of the Sith', 'episode_id': 3, 'opening_crawl': 'War! The Republic is crumbling\\r\\nunder attacks by the ruthless\\r\\nSith Lord, Count Dooku.\\r\\nThere are heroes on both sides.\\r\\nEvil is everywhere.\\r\\n\\r\\nIn a stunning move, the\\r\\nfiendish droid leader, General\\r\\nGrievous, has swept into the\\r\\nRepublic capital and kidnapped\\r\\nChancellor Palpatine, leader of\\r\\nthe Galactic Senate.\\r\\n\\r\\nAs the Separatist Droid Army\\r\\nattempts to flee the besieged\\r\\ncapital with their valuable\\r\\nhostage, two Jedi Knights lead a\\r\\ndesperate mission to rescue the\\r\\ncaptive Chancellor....', 'director': 'George Lucas', 'producer': 'Rick McCallum', 'release_date': '2005-05-19', 'characters': ['https://swapi.dev/api/people/1/', 'https://swapi.dev/api/people/2/', 'https://swapi.dev/api/people/3/', 'https://swapi.dev/api/people/4/', 'https://swapi.dev/api/people/5/', 'https://swapi.dev/api/people/6/', 'https://swapi.dev/api/people/7/', 'https://swapi.dev/api/people/10/', 'https://swapi.dev/api/people/11/', 'https://swapi.dev/api/people/12/', 'https://swapi.dev/api/people/13/', 'https://swapi.dev/api/people/20/', 'https://swapi.dev/api/people/21/', 'https://swapi.dev/api/people/33/', 'https://swapi.dev/api/people/35/', 'https://swapi.dev/api/people/46/', 'https://swapi.dev/api/people/51/', 'https://swapi.dev/api/people/52/', 'https://swapi.dev/api/people/53/', 'https://swapi.dev/api/people/54/', 'https://swapi.dev/api/people/55/', 'https://swapi.dev/api/people/56/', 'https://swapi.dev/api/people/58/', 'https://swapi.dev/api/people/63/', 'https://swapi.dev/api/people/64/', 'https://swapi.dev/api/people/67/', 'https://swapi.dev/api/people/68/', 'https://swapi.dev/api/people/75/', 'https://swapi.dev/api/people/78/', 'https://swapi.dev/api/people/79/', 'https://swapi.dev/api/people/80/', 'https://swapi.dev/api/people/81/', 'https://swapi.dev/api/people/82/', 'https://swapi.dev/api/people/83/'], 'planets': ['https://swapi.dev/api/planets/1/', 'https://swapi.dev/api/planets/2/', 'https://swapi.dev/api/planets/5/', 'https://swapi.dev/api/planets/8/', 'https://swapi.dev/api/planets/9/', 'https://swapi.dev/api/planets/12/', 'https://swapi.dev/api/planets/13/', 'https://swapi.dev/api/planets/14/', 'https://swapi.dev/api/planets/15/', 'https://swapi.dev/api/planets/16/', 'https://swapi.dev/api/planets/17/', 'https://swapi.dev/api/planets/18/', 'https://swapi.dev/api/planets/19/'], 'starships': ['https://swapi.dev/api/starships/2/', 'https://swapi.dev/api/starships/32/', 'https://swapi.dev/api/starships/48/', 'https://swapi.dev/api/starships/59/', 'https://swapi.dev/api/starships/61/', 'https://swapi.dev/api/starships/63/', 'https://swapi.dev/api/starships/64/', 'https://swapi.dev/api/starships/65/', 'https://swapi.dev/api/starships/66/', 'https://swapi.dev/api/starships/68/', 'https://swapi.dev/api/starships/74/', 'https://swapi.dev/api/starships/75/'], 'vehicles': ['https://swapi.dev/api/vehicles/33/', 'https://swapi.dev/api/vehicles/50/', 'https://swapi.dev/api/vehicles/53/', 'https://swapi.dev/api/vehicles/56/', 'https://swapi.dev/api/vehicles/60/', 'https://swapi.dev/api/vehicles/62/', 'https://swapi.dev/api/vehicles/67/', 'https://swapi.dev/api/vehicles/69/', 'https://swapi.dev/api/vehicles/70/', 'https://swapi.dev/api/vehicles/71/', 'https://swapi.dev/api/vehicles/72/', 'https://swapi.dev/api/vehicles/73/', 'https://swapi.dev/api/vehicles/76/'], 'species': ['https://swapi.dev/api/species/1/', 'https://swapi.dev/api/species/2/', 'https://swapi.dev/api/species/3/', 'https://swapi.dev/api/species/6/', 'https://swapi.dev/api/species/15/', 'https://swapi.dev/api/species/19/', 'https://swapi.dev/api/species/20/', 'https://swapi.dev/api/species/23/', 'https://swapi.dev/api/species/24/', 'https://swapi.dev/api/species/25/', 'https://swapi.dev/api/species/26/', 'https://swapi.dev/api/species/27/', 'https://swapi.dev/api/species/28/', 'https://swapi.dev/api/species/29/', 'https://swapi.dev/api/species/30/', 'https://swapi.dev/api/species/33/', 'https://swapi.dev/api/species/34/', 'https://swapi.dev/api/species/35/', 'https://swapi.dev/api/species/36/', 'https://swapi.dev/api/species/37/'], 'created': '2014-12-20T18:49:38.403000Z', 'edited': '2014-12-20T20:47:52.073000Z', 'url': 'https://swapi.dev/api/films/6/'}]}\n"
     ]
    }
   ],
   "source": [
    "# Retrieve Films\n",
    "response = requests.get(f\"{base_url}films/\")\n",
    "if response.status_code == 200:\n",
    "    films = response.json()\n",
    "    print(\"Films:\", films)\n",
    "else:\n",
    "    print(\"Error fetching films.\")"
   ]
  },
  {
   "cell_type": "markdown",
   "metadata": {},
   "source": [
    "### Step 4 : "
   ]
  },
  {
   "cell_type": "code",
   "execution_count": 24,
   "metadata": {},
   "outputs": [
    {
     "name": "stdout",
     "output_type": "stream",
     "text": [
      "Planets: {'count': 60, 'next': 'https://swapi.dev/api/planets/?page=2', 'previous': None, 'results': [{'name': 'Tatooine', 'rotation_period': '23', 'orbital_period': '304', 'diameter': '10465', 'climate': 'arid', 'gravity': '1 standard', 'terrain': 'desert', 'surface_water': '1', 'population': '200000', 'residents': ['https://swapi.dev/api/people/1/', 'https://swapi.dev/api/people/2/', 'https://swapi.dev/api/people/4/', 'https://swapi.dev/api/people/6/', 'https://swapi.dev/api/people/7/', 'https://swapi.dev/api/people/8/', 'https://swapi.dev/api/people/9/', 'https://swapi.dev/api/people/11/', 'https://swapi.dev/api/people/43/', 'https://swapi.dev/api/people/62/'], 'films': ['https://swapi.dev/api/films/1/', 'https://swapi.dev/api/films/3/', 'https://swapi.dev/api/films/4/', 'https://swapi.dev/api/films/5/', 'https://swapi.dev/api/films/6/'], 'created': '2014-12-09T13:50:49.641000Z', 'edited': '2014-12-20T20:58:18.411000Z', 'url': 'https://swapi.dev/api/planets/1/'}, {'name': 'Alderaan', 'rotation_period': '24', 'orbital_period': '364', 'diameter': '12500', 'climate': 'temperate', 'gravity': '1 standard', 'terrain': 'grasslands, mountains', 'surface_water': '40', 'population': '2000000000', 'residents': ['https://swapi.dev/api/people/5/', 'https://swapi.dev/api/people/68/', 'https://swapi.dev/api/people/81/'], 'films': ['https://swapi.dev/api/films/1/', 'https://swapi.dev/api/films/6/'], 'created': '2014-12-10T11:35:48.479000Z', 'edited': '2014-12-20T20:58:18.420000Z', 'url': 'https://swapi.dev/api/planets/2/'}, {'name': 'Yavin IV', 'rotation_period': '24', 'orbital_period': '4818', 'diameter': '10200', 'climate': 'temperate, tropical', 'gravity': '1 standard', 'terrain': 'jungle, rainforests', 'surface_water': '8', 'population': '1000', 'residents': [], 'films': ['https://swapi.dev/api/films/1/'], 'created': '2014-12-10T11:37:19.144000Z', 'edited': '2014-12-20T20:58:18.421000Z', 'url': 'https://swapi.dev/api/planets/3/'}, {'name': 'Hoth', 'rotation_period': '23', 'orbital_period': '549', 'diameter': '7200', 'climate': 'frozen', 'gravity': '1.1 standard', 'terrain': 'tundra, ice caves, mountain ranges', 'surface_water': '100', 'population': 'unknown', 'residents': [], 'films': ['https://swapi.dev/api/films/2/'], 'created': '2014-12-10T11:39:13.934000Z', 'edited': '2014-12-20T20:58:18.423000Z', 'url': 'https://swapi.dev/api/planets/4/'}, {'name': 'Dagobah', 'rotation_period': '23', 'orbital_period': '341', 'diameter': '8900', 'climate': 'murky', 'gravity': 'N/A', 'terrain': 'swamp, jungles', 'surface_water': '8', 'population': 'unknown', 'residents': [], 'films': ['https://swapi.dev/api/films/2/', 'https://swapi.dev/api/films/3/', 'https://swapi.dev/api/films/6/'], 'created': '2014-12-10T11:42:22.590000Z', 'edited': '2014-12-20T20:58:18.425000Z', 'url': 'https://swapi.dev/api/planets/5/'}, {'name': 'Bespin', 'rotation_period': '12', 'orbital_period': '5110', 'diameter': '118000', 'climate': 'temperate', 'gravity': '1.5 (surface), 1 standard (Cloud City)', 'terrain': 'gas giant', 'surface_water': '0', 'population': '6000000', 'residents': ['https://swapi.dev/api/people/26/'], 'films': ['https://swapi.dev/api/films/2/'], 'created': '2014-12-10T11:43:55.240000Z', 'edited': '2014-12-20T20:58:18.427000Z', 'url': 'https://swapi.dev/api/planets/6/'}, {'name': 'Endor', 'rotation_period': '18', 'orbital_period': '402', 'diameter': '4900', 'climate': 'temperate', 'gravity': '0.85 standard', 'terrain': 'forests, mountains, lakes', 'surface_water': '8', 'population': '30000000', 'residents': ['https://swapi.dev/api/people/30/'], 'films': ['https://swapi.dev/api/films/3/'], 'created': '2014-12-10T11:50:29.349000Z', 'edited': '2014-12-20T20:58:18.429000Z', 'url': 'https://swapi.dev/api/planets/7/'}, {'name': 'Naboo', 'rotation_period': '26', 'orbital_period': '312', 'diameter': '12120', 'climate': 'temperate', 'gravity': '1 standard', 'terrain': 'grassy hills, swamps, forests, mountains', 'surface_water': '12', 'population': '4500000000', 'residents': ['https://swapi.dev/api/people/3/', 'https://swapi.dev/api/people/21/', 'https://swapi.dev/api/people/35/', 'https://swapi.dev/api/people/36/', 'https://swapi.dev/api/people/37/', 'https://swapi.dev/api/people/38/', 'https://swapi.dev/api/people/39/', 'https://swapi.dev/api/people/42/', 'https://swapi.dev/api/people/60/', 'https://swapi.dev/api/people/61/', 'https://swapi.dev/api/people/66/'], 'films': ['https://swapi.dev/api/films/3/', 'https://swapi.dev/api/films/4/', 'https://swapi.dev/api/films/5/', 'https://swapi.dev/api/films/6/'], 'created': '2014-12-10T11:52:31.066000Z', 'edited': '2014-12-20T20:58:18.430000Z', 'url': 'https://swapi.dev/api/planets/8/'}, {'name': 'Coruscant', 'rotation_period': '24', 'orbital_period': '368', 'diameter': '12240', 'climate': 'temperate', 'gravity': '1 standard', 'terrain': 'cityscape, mountains', 'surface_water': 'unknown', 'population': '1000000000000', 'residents': ['https://swapi.dev/api/people/34/', 'https://swapi.dev/api/people/55/', 'https://swapi.dev/api/people/74/'], 'films': ['https://swapi.dev/api/films/3/', 'https://swapi.dev/api/films/4/', 'https://swapi.dev/api/films/5/', 'https://swapi.dev/api/films/6/'], 'created': '2014-12-10T11:54:13.921000Z', 'edited': '2014-12-20T20:58:18.432000Z', 'url': 'https://swapi.dev/api/planets/9/'}, {'name': 'Kamino', 'rotation_period': '27', 'orbital_period': '463', 'diameter': '19720', 'climate': 'temperate', 'gravity': '1 standard', 'terrain': 'ocean', 'surface_water': '100', 'population': '1000000000', 'residents': ['https://swapi.dev/api/people/22/', 'https://swapi.dev/api/people/72/', 'https://swapi.dev/api/people/73/'], 'films': ['https://swapi.dev/api/films/5/'], 'created': '2014-12-10T12:45:06.577000Z', 'edited': '2014-12-20T20:58:18.434000Z', 'url': 'https://swapi.dev/api/planets/10/'}]}\n"
     ]
    }
   ],
   "source": [
    "# Retrieve Planets\n",
    "response = requests.get(f\"{base_url}planets/\")\n",
    "if response.status_code == 200:\n",
    "    planets = response.json()\n",
    "    print(\"Planets:\", planets)\n",
    "else:\n",
    "    print(\"Error fetching planets.\")"
   ]
  },
  {
   "cell_type": "markdown",
   "metadata": {},
   "source": [
    "### Step 5 :"
   ]
  },
  {
   "cell_type": "code",
   "execution_count": null,
   "metadata": {},
   "outputs": [
    {
     "name": "stderr",
     "output_type": "stream",
     "text": [
      "test_empty_query (__main__.TestSearchCharacter.test_empty_query)\n",
      "Test searching with an empty string. ... FAIL\n",
      "test_invalid_character (__main__.TestSearchCharacter.test_invalid_character)\n",
      "Test searching for an invalid character name. ... ok\n",
      "test_valid_character (__main__.TestSearchCharacter.test_valid_character)\n",
      "Test searching for a known character (Luke Skywalker). ... ok\n",
      "\n",
      "======================================================================\n",
      "FAIL: test_empty_query (__main__.TestSearchCharacter.test_empty_query)\n",
      "Test searching with an empty string.\n",
      "----------------------------------------------------------------------\n",
      "Traceback (most recent call last):\n",
      "  File \"C:\\Users\\axele\\AppData\\Local\\Temp\\ipykernel_11812\\1434071717.py\", line 32, in test_empty_query\n",
      "    self.assertIsNone(result, \"Expected no results for empty search query.\")\n",
      "AssertionError: {'name': 'Luke Skywalker', 'height': '172', 'mass': '77', 'hair_color': 'blond', 'skin_color': 'fair', 'eye_color': 'blue', 'birth_year': '19BBY', 'gender': 'male', 'homeworld': 'https://swapi.dev/api/planets/1/', 'films': ['https://swapi.dev/api/films/1/', 'https://swapi.dev/api/films/2/', 'https://swapi.dev/api/films/3/', 'https://swapi.dev/api/films/6/'], 'species': [], 'vehicles': ['https://swapi.dev/api/vehicles/14/', 'https://swapi.dev/api/vehicles/30/'], 'starships': ['https://swapi.dev/api/starships/12/', 'https://swapi.dev/api/starships/22/'], 'created': '2014-12-09T13:50:51.644000Z', 'edited': '2014-12-20T21:17:56.891000Z', 'url': 'https://swapi.dev/api/people/1/'} is not None : Expected no results for empty search query.\n",
      "\n",
      "----------------------------------------------------------------------\n",
      "Ran 3 tests in 1.844s\n",
      "\n",
      "FAILED (failures=1)\n"
     ]
    }
   ],
   "source": [
    "import unittest\n",
    "\n",
    "# Function to search for a character by name\n",
    "def search_character(name):\n",
    "    base_url = \"https://swapi.dev/api/people/\"\n",
    "    response = requests.get(f\"{base_url}?search={name}\")\n",
    "    if response.status_code == 200:\n",
    "        data = response.json()\n",
    "        if data['results']:\n",
    "            return data['results'][0]  # Return the first match\n",
    "        else:\n",
    "            return None  # No character found\n",
    "    else:\n",
    "        raise Exception(\"Error fetching data from the API.\")\n",
    "\n",
    "# Unit tests for the search_character function\n",
    "class TestSearchCharacter(unittest.TestCase):\n",
    "    def test_valid_character(self):\n",
    "#Test searching for a known character (Luke Skywalker)\n",
    "        result = search_character(\"Luke Skywalker\")\n",
    "        self.assertIsNotNone(result, \"Character not found.\")\n",
    "        self.assertEqual(result['name'], \"Luke Skywalker\")\n",
    "\n",
    "    def test_invalid_character(self):\n",
    "#Test searching for an invalid character name\n",
    "        result = search_character(\"InvalidName\")\n",
    "        self.assertIsNone(result, \"Expected no results for invalid character name.\")\n",
    "\n",
    "    def test_empty_query(self):\n",
    "#Test searching with an empty string\n",
    "        result = search_character(\"\")\n",
    "        self.assertIsNone(result, \"Expected no results for empty search query.\")\n",
    "\n",
    "# Run the unit tests\n",
    "if __name__ == \"__main__\":\n",
    "    unittest.main(argv=[''], verbosity=2, exit=False)\n"
   ]
  },
  {
   "cell_type": "markdown",
   "metadata": {},
   "source": [
    "### Step 6 :"
   ]
  },
  {
   "cell_type": "code",
   "execution_count": null,
   "metadata": {},
   "outputs": [
    {
     "name": "stdout",
     "output_type": "stream",
     "text": [
      "species\n",
      "                                    7\n",
      "https://swapi.dev/api/species/2/    3\n",
      "dtype: int64\n",
      "                 name height mass     hair_color   skin_color  eye_color  \\\n",
      "0      Luke Skywalker    172   77          blond         fair       blue   \n",
      "1               C-3PO    167   75            n/a         gold     yellow   \n",
      "2               R2-D2     96   32            n/a  white, blue        red   \n",
      "3         Darth Vader    202  136           none        white     yellow   \n",
      "4         Leia Organa    150   49          brown        light      brown   \n",
      "5           Owen Lars    178  120    brown, grey        light       blue   \n",
      "6  Beru Whitesun lars    165   75          brown        light       blue   \n",
      "7               R5-D4     97   32            n/a   white, red        red   \n",
      "8   Biggs Darklighter    183   84          black        light      brown   \n",
      "9      Obi-Wan Kenobi    182   77  auburn, white         fair  blue-gray   \n",
      "\n",
      "  birth_year  gender                          homeworld  \\\n",
      "0      19BBY    male   https://swapi.dev/api/planets/1/   \n",
      "1     112BBY     n/a   https://swapi.dev/api/planets/1/   \n",
      "2      33BBY     n/a   https://swapi.dev/api/planets/8/   \n",
      "3    41.9BBY    male   https://swapi.dev/api/planets/1/   \n",
      "4      19BBY  female   https://swapi.dev/api/planets/2/   \n",
      "5      52BBY    male   https://swapi.dev/api/planets/1/   \n",
      "6      47BBY  female   https://swapi.dev/api/planets/1/   \n",
      "7    unknown     n/a   https://swapi.dev/api/planets/1/   \n",
      "8      24BBY    male   https://swapi.dev/api/planets/1/   \n",
      "9      57BBY    male  https://swapi.dev/api/planets/20/   \n",
      "\n",
      "                                               films  \\\n",
      "0  [https://swapi.dev/api/films/1/, https://swapi...   \n",
      "1  [https://swapi.dev/api/films/1/, https://swapi...   \n",
      "2  [https://swapi.dev/api/films/1/, https://swapi...   \n",
      "3  [https://swapi.dev/api/films/1/, https://swapi...   \n",
      "4  [https://swapi.dev/api/films/1/, https://swapi...   \n",
      "5  [https://swapi.dev/api/films/1/, https://swapi...   \n",
      "6  [https://swapi.dev/api/films/1/, https://swapi...   \n",
      "7                   [https://swapi.dev/api/films/1/]   \n",
      "8                   [https://swapi.dev/api/films/1/]   \n",
      "9  [https://swapi.dev/api/films/1/, https://swapi...   \n",
      "\n",
      "                            species  \\\n",
      "0                                     \n",
      "1  https://swapi.dev/api/species/2/   \n",
      "2  https://swapi.dev/api/species/2/   \n",
      "3                                     \n",
      "4                                     \n",
      "5                                     \n",
      "6                                     \n",
      "7  https://swapi.dev/api/species/2/   \n",
      "8                                     \n",
      "9                                     \n",
      "\n",
      "                                            vehicles  \\\n",
      "0  [https://swapi.dev/api/vehicles/14/, https://s...   \n",
      "1                                                 []   \n",
      "2                                                 []   \n",
      "3                                                 []   \n",
      "4               [https://swapi.dev/api/vehicles/30/]   \n",
      "5                                                 []   \n",
      "6                                                 []   \n",
      "7                                                 []   \n",
      "8                                                 []   \n",
      "9               [https://swapi.dev/api/vehicles/38/]   \n",
      "\n",
      "                                           starships  \\\n",
      "0  [https://swapi.dev/api/starships/12/, https://...   \n",
      "1                                                 []   \n",
      "2                                                 []   \n",
      "3              [https://swapi.dev/api/starships/13/]   \n",
      "4                                                 []   \n",
      "5                                                 []   \n",
      "6                                                 []   \n",
      "7                                                 []   \n",
      "8              [https://swapi.dev/api/starships/12/]   \n",
      "9  [https://swapi.dev/api/starships/48/, https://...   \n",
      "\n",
      "                       created                       edited  \\\n",
      "0  2014-12-09T13:50:51.644000Z  2014-12-20T21:17:56.891000Z   \n",
      "1  2014-12-10T15:10:51.357000Z  2014-12-20T21:17:50.309000Z   \n",
      "2  2014-12-10T15:11:50.376000Z  2014-12-20T21:17:50.311000Z   \n",
      "3  2014-12-10T15:18:20.704000Z  2014-12-20T21:17:50.313000Z   \n",
      "4  2014-12-10T15:20:09.791000Z  2014-12-20T21:17:50.315000Z   \n",
      "5  2014-12-10T15:52:14.024000Z  2014-12-20T21:17:50.317000Z   \n",
      "6  2014-12-10T15:53:41.121000Z  2014-12-20T21:17:50.319000Z   \n",
      "7  2014-12-10T15:57:50.959000Z  2014-12-20T21:17:50.321000Z   \n",
      "8  2014-12-10T15:59:50.509000Z  2014-12-20T21:17:50.323000Z   \n",
      "9  2014-12-10T16:16:29.192000Z  2014-12-20T21:17:50.325000Z   \n",
      "\n",
      "                                url  \n",
      "0   https://swapi.dev/api/people/1/  \n",
      "1   https://swapi.dev/api/people/2/  \n",
      "2   https://swapi.dev/api/people/3/  \n",
      "3   https://swapi.dev/api/people/4/  \n",
      "4   https://swapi.dev/api/people/5/  \n",
      "5   https://swapi.dev/api/people/6/  \n",
      "6   https://swapi.dev/api/people/7/  \n",
      "7   https://swapi.dev/api/people/8/  \n",
      "8   https://swapi.dev/api/people/9/  \n",
      "9  https://swapi.dev/api/people/10/  \n"
     ]
    }
   ],
   "source": [
    "import pandas as pd\n",
    "\n",
    "response = requests.get(f\"{base_url}people/\")\n",
    "if response.status_code == 200:\n",
    "    data = response.json()\n",
    "    characters = pd.DataFrame(data['results'])\n",
    "    characters['species'] = characters['species'].apply(lambda x: ', '.join(x) if isinstance(x, list) else x)\n",
    "    # Group by species\n",
    "    grouped_species = characters.groupby(\"species\").size()\n",
    "    print(grouped_species)\n",
    "else:\n",
    "    print(\"Error fetching character data.\")\n",
    "    \n",
    "\n",
    "print(characters)\n"
   ]
  },
  {
   "cell_type": "markdown",
   "metadata": {},
   "source": [
    "### Step 7 :"
   ]
  },
  {
   "cell_type": "code",
   "execution_count": 32,
   "metadata": {},
   "outputs": [
    {
     "name": "stdout",
     "output_type": "stream",
     "text": [
      "1. Attack of the Clones - 40 characters\n",
      "2. The Phantom Menace - 34 characters\n",
      "3. Revenge of the Sith - 34 characters\n",
      "4. Return of the Jedi - 20 characters\n",
      "5. A New Hope - 18 characters\n",
      "6. The Empire Strikes Back - 16 characters\n"
     ]
    }
   ],
   "source": [
    "# Retrieve films and rank by character count\n",
    "response = requests.get(f\"{base_url}films/\")\n",
    "if response.status_code == 200:\n",
    "    films = response.json()['results']\n",
    "    film_ranking = sorted(films, key=lambda x: len(x['characters']), reverse=True)\n",
    "    for idx, film in enumerate(film_ranking, start=1):\n",
    "        print(f\"{idx}. {film['title']} - {len(film['characters'])} characters\")\n",
    "else:\n",
    "    print(\"Error fetching films.\")\n"
   ]
  },
  {
   "cell_type": "markdown",
   "metadata": {},
   "source": [
    "### Step 8 Bonus :"
   ]
  },
  {
   "cell_type": "code",
   "execution_count": 33,
   "metadata": {},
   "outputs": [
    {
     "name": "stdout",
     "output_type": "stream",
     "text": [
      "Starships: {'count': 36, 'next': 'https://swapi.dev/api/starships/?page=2', 'previous': None, 'results': [{'name': 'CR90 corvette', 'model': 'CR90 corvette', 'manufacturer': 'Corellian Engineering Corporation', 'cost_in_credits': '3500000', 'length': '150', 'max_atmosphering_speed': '950', 'crew': '30-165', 'passengers': '600', 'cargo_capacity': '3000000', 'consumables': '1 year', 'hyperdrive_rating': '2.0', 'MGLT': '60', 'starship_class': 'corvette', 'pilots': [], 'films': ['https://swapi.dev/api/films/1/', 'https://swapi.dev/api/films/3/', 'https://swapi.dev/api/films/6/'], 'created': '2014-12-10T14:20:33.369000Z', 'edited': '2014-12-20T21:23:49.867000Z', 'url': 'https://swapi.dev/api/starships/2/'}, {'name': 'Star Destroyer', 'model': 'Imperial I-class Star Destroyer', 'manufacturer': 'Kuat Drive Yards', 'cost_in_credits': '150000000', 'length': '1,600', 'max_atmosphering_speed': '975', 'crew': '47,060', 'passengers': 'n/a', 'cargo_capacity': '36000000', 'consumables': '2 years', 'hyperdrive_rating': '2.0', 'MGLT': '60', 'starship_class': 'Star Destroyer', 'pilots': [], 'films': ['https://swapi.dev/api/films/1/', 'https://swapi.dev/api/films/2/', 'https://swapi.dev/api/films/3/'], 'created': '2014-12-10T15:08:19.848000Z', 'edited': '2014-12-20T21:23:49.870000Z', 'url': 'https://swapi.dev/api/starships/3/'}, {'name': 'Sentinel-class landing craft', 'model': 'Sentinel-class landing craft', 'manufacturer': 'Sienar Fleet Systems, Cyngus Spaceworks', 'cost_in_credits': '240000', 'length': '38', 'max_atmosphering_speed': '1000', 'crew': '5', 'passengers': '75', 'cargo_capacity': '180000', 'consumables': '1 month', 'hyperdrive_rating': '1.0', 'MGLT': '70', 'starship_class': 'landing craft', 'pilots': [], 'films': ['https://swapi.dev/api/films/1/'], 'created': '2014-12-10T15:48:00.586000Z', 'edited': '2014-12-20T21:23:49.873000Z', 'url': 'https://swapi.dev/api/starships/5/'}, {'name': 'Death Star', 'model': 'DS-1 Orbital Battle Station', 'manufacturer': 'Imperial Department of Military Research, Sienar Fleet Systems', 'cost_in_credits': '1000000000000', 'length': '120000', 'max_atmosphering_speed': 'n/a', 'crew': '342,953', 'passengers': '843,342', 'cargo_capacity': '1000000000000', 'consumables': '3 years', 'hyperdrive_rating': '4.0', 'MGLT': '10', 'starship_class': 'Deep Space Mobile Battlestation', 'pilots': [], 'films': ['https://swapi.dev/api/films/1/'], 'created': '2014-12-10T16:36:50.509000Z', 'edited': '2014-12-20T21:26:24.783000Z', 'url': 'https://swapi.dev/api/starships/9/'}, {'name': 'Millennium Falcon', 'model': 'YT-1300 light freighter', 'manufacturer': 'Corellian Engineering Corporation', 'cost_in_credits': '100000', 'length': '34.37', 'max_atmosphering_speed': '1050', 'crew': '4', 'passengers': '6', 'cargo_capacity': '100000', 'consumables': '2 months', 'hyperdrive_rating': '0.5', 'MGLT': '75', 'starship_class': 'Light freighter', 'pilots': ['https://swapi.dev/api/people/13/', 'https://swapi.dev/api/people/14/', 'https://swapi.dev/api/people/25/', 'https://swapi.dev/api/people/31/'], 'films': ['https://swapi.dev/api/films/1/', 'https://swapi.dev/api/films/2/', 'https://swapi.dev/api/films/3/'], 'created': '2014-12-10T16:59:45.094000Z', 'edited': '2014-12-20T21:23:49.880000Z', 'url': 'https://swapi.dev/api/starships/10/'}, {'name': 'Y-wing', 'model': 'BTL Y-wing', 'manufacturer': 'Koensayr Manufacturing', 'cost_in_credits': '134999', 'length': '14', 'max_atmosphering_speed': '1000km', 'crew': '2', 'passengers': '0', 'cargo_capacity': '110', 'consumables': '1 week', 'hyperdrive_rating': '1.0', 'MGLT': '80', 'starship_class': 'assault starfighter', 'pilots': [], 'films': ['https://swapi.dev/api/films/1/', 'https://swapi.dev/api/films/2/', 'https://swapi.dev/api/films/3/'], 'created': '2014-12-12T11:00:39.817000Z', 'edited': '2014-12-20T21:23:49.883000Z', 'url': 'https://swapi.dev/api/starships/11/'}, {'name': 'X-wing', 'model': 'T-65 X-wing', 'manufacturer': 'Incom Corporation', 'cost_in_credits': '149999', 'length': '12.5', 'max_atmosphering_speed': '1050', 'crew': '1', 'passengers': '0', 'cargo_capacity': '110', 'consumables': '1 week', 'hyperdrive_rating': '1.0', 'MGLT': '100', 'starship_class': 'Starfighter', 'pilots': ['https://swapi.dev/api/people/1/', 'https://swapi.dev/api/people/9/', 'https://swapi.dev/api/people/18/', 'https://swapi.dev/api/people/19/'], 'films': ['https://swapi.dev/api/films/1/', 'https://swapi.dev/api/films/2/', 'https://swapi.dev/api/films/3/'], 'created': '2014-12-12T11:19:05.340000Z', 'edited': '2014-12-20T21:23:49.886000Z', 'url': 'https://swapi.dev/api/starships/12/'}, {'name': 'TIE Advanced x1', 'model': 'Twin Ion Engine Advanced x1', 'manufacturer': 'Sienar Fleet Systems', 'cost_in_credits': 'unknown', 'length': '9.2', 'max_atmosphering_speed': '1200', 'crew': '1', 'passengers': '0', 'cargo_capacity': '150', 'consumables': '5 days', 'hyperdrive_rating': '1.0', 'MGLT': '105', 'starship_class': 'Starfighter', 'pilots': ['https://swapi.dev/api/people/4/'], 'films': ['https://swapi.dev/api/films/1/'], 'created': '2014-12-12T11:21:32.991000Z', 'edited': '2014-12-20T21:23:49.889000Z', 'url': 'https://swapi.dev/api/starships/13/'}, {'name': 'Executor', 'model': 'Executor-class star dreadnought', 'manufacturer': 'Kuat Drive Yards, Fondor Shipyards', 'cost_in_credits': '1143350000', 'length': '19000', 'max_atmosphering_speed': 'n/a', 'crew': '279,144', 'passengers': '38000', 'cargo_capacity': '250000000', 'consumables': '6 years', 'hyperdrive_rating': '2.0', 'MGLT': '40', 'starship_class': 'Star dreadnought', 'pilots': [], 'films': ['https://swapi.dev/api/films/2/', 'https://swapi.dev/api/films/3/'], 'created': '2014-12-15T12:31:42.547000Z', 'edited': '2014-12-20T21:23:49.893000Z', 'url': 'https://swapi.dev/api/starships/15/'}, {'name': 'Rebel transport', 'model': 'GR-75 medium transport', 'manufacturer': 'Gallofree Yards, Inc.', 'cost_in_credits': 'unknown', 'length': '90', 'max_atmosphering_speed': '650', 'crew': '6', 'passengers': '90', 'cargo_capacity': '19000000', 'consumables': '6 months', 'hyperdrive_rating': '4.0', 'MGLT': '20', 'starship_class': 'Medium transport', 'pilots': [], 'films': ['https://swapi.dev/api/films/2/', 'https://swapi.dev/api/films/3/'], 'created': '2014-12-15T12:34:52.264000Z', 'edited': '2014-12-20T21:23:49.895000Z', 'url': 'https://swapi.dev/api/starships/17/'}]}\n"
     ]
    }
   ],
   "source": [
    "# Retrieve starship data\n",
    "response = requests.get(f\"{base_url}starships/\")\n",
    "if response.status_code == 200:\n",
    "    starships = response.json()\n",
    "    print(\"Starships:\", starships)\n",
    "else:\n",
    "    print(\"Error fetching starships.\")\n"
   ]
  },
  {
   "cell_type": "markdown",
   "metadata": {},
   "source": [
    "### Postman a powerfull tool for"
   ]
  },
  {
   "cell_type": "markdown",
   "metadata": {},
   "source": [
    "--------------------------"
   ]
  },
  {
   "cell_type": "markdown",
   "metadata": {},
   "source": [
    "# Exploring GraphQL APIs"
   ]
  },
  {
   "cell_type": "markdown",
   "metadata": {},
   "source": [
    "Usefull links:\n",
    "- https://graphql.org/learn/queries/\n",
    "- https://graphql-demo.mead.io/\n",
    "\n",
    "Use this graphQL API to make complex requests on Star Wars world:\n",
    "- https://swapi-graphql.netlify.app/"
   ]
  },
  {
   "cell_type": "markdown",
   "metadata": {},
   "source": [
    "On the below cell you have a simple graphQL query."
   ]
  },
  {
   "cell_type": "markdown",
   "metadata": {},
   "source": [
    "# Exploring Star Wars Data with GraphQL\n",
    "\n",
    "### Introduction \n",
    "\n",
    "In this exercice you will retrieve the previous results in another way, by consuming the GraphQL API of SWAPI.\n",
    "\n",
    "### Few elements to remember about the GraphQL Protocol\n",
    "\n",
    "GraphQL is a powerful query language for APIs that provides a more efficient and flexible alternative to traditional REST APIs. In this exercise, we will interact with the Star Wars API (SWAPI) using GraphQL to retrieve specific information about characters, films, and species from the Star Wars universe. Some important aspects are:\n",
    "\n",
    "- **Single Endpoint:** GraphQL APIs typically have a single endpoint for all queries, making it more straightforward to manage and interact with.\n",
    "\n",
    "- **Flexible Responses:** Clients receive exactly the data they request, reducing over-fetching of data common in traditional REST APIs.\n",
    "\n",
    "- **Introspection:** GraphQL supports introspection, allowing clients to query the schema itself, making it self-documenting and aiding in development.\n",
    "\n",
    "### Key Concepts in GraphQL:\n",
    "\n",
    "- **GraphQL Schema:** GraphQL APIs have a schema that defines the types of data available and the relationships between them.\n",
    "\n",
    "- **Queries:** In GraphQL, clients specify the exact data they need using queries, allowing for more efficient data retrieval.\n",
    "\n",
    "- **Fields and Nested Structures:** Queries can include specific fields, and GraphQL supports nested structures to retrieve related data in a single request.\n",
    "\n",
    "\n",
    "### Objective\n",
    "\n",
    "- **Step 1: Introduction:** Understand the REST API Query. You can use the playground for this : https://swapi-graphql.netlify.app/?query=%7B%0A%20%20allFilms%20%7B%0A%20%20%20%20edges%20%7B%0A%20%20%20%20%20%20node%20%7B%0A%20%20%20%20%20%20%20%20id%2C%0A%20%20%20%20%20%20%20%20title%0A%20%20%20%20%20%20%7D%0A%20%20%20%20%7D%0A%20%20%7D%0A%7D\n",
    "\n",
    "- **Step 2: Retrieve Films with Character Information:** Retrieve Films with Character Information in a single query.\n",
    "\n",
    "\n",
    "### Documentation link :\n",
    "\n",
    "- https://swapi.dev/documentation"
   ]
  },
  {
   "cell_type": "markdown",
   "metadata": {},
   "source": [
    "Retrieve all the film :"
   ]
  },
  {
   "cell_type": "code",
   "execution_count": 36,
   "metadata": {},
   "outputs": [
    {
     "name": "stdout",
     "output_type": "stream",
     "text": [
      "Title: A New Hope, Director: George Lucas, Release Date: 1977-05-25\n",
      "Title: The Empire Strikes Back, Director: Irvin Kershner, Release Date: 1980-05-17\n",
      "Title: Return of the Jedi, Director: Richard Marquand, Release Date: 1983-05-25\n",
      "Title: The Phantom Menace, Director: George Lucas, Release Date: 1999-05-19\n",
      "Title: Attack of the Clones, Director: George Lucas, Release Date: 2002-05-16\n",
      "Title: Revenge of the Sith, Director: George Lucas, Release Date: 2005-05-19\n"
     ]
    }
   ],
   "source": [
    "import requests\n",
    "graphql_url = \"https://swapi-graphql.netlify.app/.netlify/functions/index\"\n",
    "query_all_films = \"\"\"\n",
    "query {\n",
    "  allFilms {\n",
    "    edges {\n",
    "      node {\n",
    "        title\n",
    "        releaseDate\n",
    "        director\n",
    "      }\n",
    "    }\n",
    "  }\n",
    "}\n",
    "\"\"\"\n",
    "response = requests.post(graphql_url, json={\"query\": query_all_films})\n",
    "\n",
    "if response.status_code == 200:\n",
    "    films = response.json()[\"data\"][\"allFilms\"][\"edges\"]\n",
    "    for film in films:\n",
    "        print(f\"Title: {film['node']['title']}, Director: {film['node']['director']}, Release Date: {film['node']['releaseDate']}\")\n",
    "else:\n",
    "    print(\"Error fetching films:\", response.status_code, response.text)\n"
   ]
  },
  {
   "cell_type": "markdown",
   "metadata": {},
   "source": [
    "Retrieve Films with Character Information in a single query.\n"
   ]
  },
  {
   "cell_type": "code",
   "execution_count": 42,
   "metadata": {},
   "outputs": [
    {
     "name": "stdout",
     "output_type": "stream",
     "text": [
      "Title: A New Hope\n",
      "Director: George Lucas\n",
      "Characters:\n",
      "- Luke Skywalker\n",
      "- C-3PO\n",
      "- R2-D2\n",
      "- Darth Vader\n",
      "- Leia Organa\n",
      "- Owen Lars\n",
      "- Beru Whitesun lars\n",
      "- R5-D4\n",
      "- Biggs Darklighter\n",
      "- Obi-Wan Kenobi\n",
      "- Wilhuff Tarkin\n",
      "- Chewbacca\n",
      "- Han Solo\n",
      "- Greedo\n",
      "- Jabba Desilijic Tiure\n",
      "- Wedge Antilles\n",
      "- Jek Tono Porkins\n",
      "- Raymus Antilles\n",
      "\n",
      "Title: The Empire Strikes Back\n",
      "Director: Irvin Kershner\n",
      "Characters:\n",
      "- Luke Skywalker\n",
      "- C-3PO\n",
      "- R2-D2\n",
      "- Darth Vader\n",
      "- Leia Organa\n",
      "- Obi-Wan Kenobi\n",
      "- Chewbacca\n",
      "- Han Solo\n",
      "- Wedge Antilles\n",
      "- Yoda\n",
      "- Palpatine\n",
      "- Boba Fett\n",
      "- IG-88\n",
      "- Bossk\n",
      "- Lando Calrissian\n",
      "- Lobot\n",
      "\n",
      "Title: Return of the Jedi\n",
      "Director: Richard Marquand\n",
      "Characters:\n",
      "- Luke Skywalker\n",
      "- C-3PO\n",
      "- R2-D2\n",
      "- Darth Vader\n",
      "- Leia Organa\n",
      "- Obi-Wan Kenobi\n",
      "- Chewbacca\n",
      "- Han Solo\n",
      "- Jabba Desilijic Tiure\n",
      "- Wedge Antilles\n",
      "- Yoda\n",
      "- Palpatine\n",
      "- Boba Fett\n",
      "- Lando Calrissian\n",
      "- Ackbar\n",
      "- Mon Mothma\n",
      "- Arvel Crynyd\n",
      "- Wicket Systri Warrick\n",
      "- Nien Nunb\n",
      "- Bib Fortuna\n",
      "\n",
      "Title: The Phantom Menace\n",
      "Director: George Lucas\n",
      "Characters:\n",
      "- C-3PO\n",
      "- R2-D2\n",
      "- Obi-Wan Kenobi\n",
      "- Anakin Skywalker\n",
      "- Jabba Desilijic Tiure\n",
      "- Yoda\n",
      "- Palpatine\n",
      "- Qui-Gon Jinn\n",
      "- Nute Gunray\n",
      "- Finis Valorum\n",
      "- Padmé Amidala\n",
      "- Jar Jar Binks\n",
      "- Roos Tarpals\n",
      "- Rugor Nass\n",
      "- Ric Olié\n",
      "- Watto\n",
      "- Sebulba\n",
      "- Quarsh Panaka\n",
      "- Shmi Skywalker\n",
      "- Darth Maul\n",
      "- Ayla Secura\n",
      "- Ratts Tyerel\n",
      "- Dud Bolt\n",
      "- Gasgano\n",
      "- Ben Quadinaros\n",
      "- Mace Windu\n",
      "- Ki-Adi-Mundi\n",
      "- Kit Fisto\n",
      "- Eeth Koth\n",
      "- Adi Gallia\n",
      "- Saesee Tiin\n",
      "- Yarael Poof\n",
      "- Plo Koon\n",
      "- Mas Amedda\n",
      "\n",
      "Title: Attack of the Clones\n",
      "Director: George Lucas\n",
      "Characters:\n",
      "- C-3PO\n",
      "- R2-D2\n",
      "- Owen Lars\n",
      "- Beru Whitesun lars\n",
      "- Obi-Wan Kenobi\n",
      "- Anakin Skywalker\n",
      "- Yoda\n",
      "- Palpatine\n",
      "- Boba Fett\n",
      "- Nute Gunray\n",
      "- Padmé Amidala\n",
      "- Jar Jar Binks\n",
      "- Watto\n",
      "- Shmi Skywalker\n",
      "- Ayla Secura\n",
      "- Mace Windu\n",
      "- Ki-Adi-Mundi\n",
      "- Kit Fisto\n",
      "- Plo Koon\n",
      "- Mas Amedda\n",
      "- Gregar Typho\n",
      "- Cordé\n",
      "- Cliegg Lars\n",
      "- Poggle the Lesser\n",
      "- Luminara Unduli\n",
      "- Barriss Offee\n",
      "- Dormé\n",
      "- Dooku\n",
      "- Bail Prestor Organa\n",
      "- Jango Fett\n",
      "- Zam Wesell\n",
      "- Dexter Jettster\n",
      "- Lama Su\n",
      "- Taun We\n",
      "- Jocasta Nu\n",
      "- R4-P17\n",
      "- Wat Tambor\n",
      "- San Hill\n",
      "- Shaak Ti\n",
      "- Sly Moore\n",
      "\n",
      "Title: Revenge of the Sith\n",
      "Director: George Lucas\n",
      "Characters:\n",
      "- Luke Skywalker\n",
      "- C-3PO\n",
      "- R2-D2\n",
      "- Darth Vader\n",
      "- Leia Organa\n",
      "- Owen Lars\n",
      "- Beru Whitesun lars\n",
      "- Obi-Wan Kenobi\n",
      "- Anakin Skywalker\n",
      "- Wilhuff Tarkin\n",
      "- Chewbacca\n",
      "- Yoda\n",
      "- Palpatine\n",
      "- Nute Gunray\n",
      "- Padmé Amidala\n",
      "- Ayla Secura\n",
      "- Mace Windu\n",
      "- Ki-Adi-Mundi\n",
      "- Kit Fisto\n",
      "- Eeth Koth\n",
      "- Adi Gallia\n",
      "- Saesee Tiin\n",
      "- Plo Koon\n",
      "- Poggle the Lesser\n",
      "- Luminara Unduli\n",
      "- Dooku\n",
      "- Bail Prestor Organa\n",
      "- R4-P17\n",
      "- Shaak Ti\n",
      "- Grievous\n",
      "- Tarfful\n",
      "- Raymus Antilles\n",
      "- Sly Moore\n",
      "- Tion Medon\n",
      "\n"
     ]
    }
   ],
   "source": [
    "query_films_with_characters = \"\"\"\n",
    "query {\n",
    "  allFilms {\n",
    "    edges {\n",
    "      node {\n",
    "        title\n",
    "        releaseDate\n",
    "        director\n",
    "        characterConnection {\n",
    "          edges {\n",
    "            node {\n",
    "              name\n",
    "            }\n",
    "          }\n",
    "        }\n",
    "      }\n",
    "    }\n",
    "  }\n",
    "}\n",
    "\"\"\"\n",
    "response = requests.post(graphql_url, json={\"query\": query_films_with_characters})\n",
    "if response.status_code == 200:\n",
    "    films = response.json()[\"data\"][\"allFilms\"][\"edges\"]\n",
    "    for film in films:\n",
    "        print(f\"Title: {film['node']['title']}\")\n",
    "        print(f\"Director: {film['node']['director']}\")\n",
    "        print(\"Characters:\")\n",
    "        for character in film[\"node\"][\"characterConnection\"][\"edges\"]:\n",
    "            print(f\"- {character['node']['name']}\")\n",
    "        print() \n",
    "else:\n",
    "    print(\"Error fetching films with characters:\", response.status_code, response.text)\n"
   ]
  },
  {
   "cell_type": "markdown",
   "metadata": {},
   "source": [
    "---------------------------"
   ]
  }
 ],
 "metadata": {
  "kernelspec": {
   "display_name": "Python 3",
   "language": "python",
   "name": "python3"
  },
  "language_info": {
   "codemirror_mode": {
    "name": "ipython",
    "version": 3
   },
   "file_extension": ".py",
   "mimetype": "text/x-python",
   "name": "python",
   "nbconvert_exporter": "python",
   "pygments_lexer": "ipython3",
   "version": "3.12.2"
  },
  "orig_nbformat": 4
 },
 "nbformat": 4,
 "nbformat_minor": 2
}
